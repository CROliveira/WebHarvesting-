{
 "cells": [
  {
   "cell_type": "markdown",
   "metadata": {
    "toc": true
   },
   "source": [
    "<h1>Table of Contents<span class=\"tocSkip\"></span></h1>\n",
    "<div class=\"toc\"><ul class=\"toc-item\"><li><span><a href=\"#VAEX\" data-toc-modified-id=\"VAEX-1\"><span class=\"toc-item-num\">1&nbsp;&nbsp;</span>VAEX</a></span><ul class=\"toc-item\"><li><span><a href=\"#Vaex-out-of-core\" data-toc-modified-id=\"Vaex-out-of-core-1.1\"><span class=\"toc-item-num\">1.1&nbsp;&nbsp;</span>Vaex out-of-core</a></span></li><li><span><a href=\"#Why-vaex\" data-toc-modified-id=\"Why-vaex-1.2\"><span class=\"toc-item-num\">1.2&nbsp;&nbsp;</span>Why vaex</a></span></li></ul></li></ul></div>"
   ]
  },
  {
   "cell_type": "markdown",
   "metadata": {},
   "source": [
    "Web harvesting example of [Towards Data Science](https://towardsdatascience.com) website using VAEX python library"
   ]
  },
  {
   "cell_type": "markdown",
   "metadata": {
    "ExecuteTime": {
     "end_time": "2020-06-05T18:48:10.660341Z",
     "start_time": "2020-06-05T18:48:10.654517Z"
    }
   },
   "source": [
    "# VAEX"
   ]
  },
  {
   "cell_type": "markdown",
   "metadata": {},
   "source": [
    "## Vaex out-of-core\n",
    "\n",
    "Vaex is a python library for lazy Out-of-Core DataFrames (similar to Pandas), to visualize and explore big tabular datasets. It can calculate statistics such as mean, sum, count, standard deviation etc, on an N-dimensional grid up to a billion (109) objects/rows per second. Visualization is done using histograms, density plots and 3d volume rendering, allowing interactive exploration of big data. \n",
    "\n",
    "Vaex uses memory mapping, a zero memory copy policy, and lazy computations for best performance (no memory wasted).\n",
    "\n",
    "The most important class (datastructure) in vaex is the DataFrame. A DataFrame is obtained by either opening the  dataset or connecting to a remote server.\n",
    "\n",
    "> df1 = vaex.open(\"somedata.hdf5\")\n",
    "\n",
    "> df2 = vaex.open(\"somedata.fits\")\n",
    "\n",
    "> df2 = vaex.open(\"somedata.arrow\")\n",
    "\n",
    "> df4 = vaex.open(\"somedata.csv\")\n",
    "\n",
    "> df_remote = vaex.open(\"http://try.vaex.io/nyc_taxi_2015\")\n",
    "\n",
    "You can access [VAEX DOCUMENTATION](https://vaex.readthedocs.io/en/latest/api.html#vaex.dataset.Dataset.to_pandas_df) on this link."
   ]
  },
  {
   "cell_type": "code",
   "execution_count": 1,
   "metadata": {
    "ExecuteTime": {
     "end_time": "2020-06-05T19:33:53.013017Z",
     "start_time": "2020-06-05T19:33:53.005845Z"
    }
   },
   "outputs": [],
   "source": [
    "# Installing the package\n",
    "# !pip install vaex"
   ]
  },
  {
   "cell_type": "markdown",
   "metadata": {},
   "source": [
    "## Why vaex\n",
    "\n",
    "Performance: works with huge tabular data, processes >109 rows/second\n",
    "\n",
    "Lazy / Virtual columns: compute on the fly, without wasting ram\n",
    "\n",
    "Memory efficient no memory copies when doing filtering/selections/subsets\n",
    "\n",
    "Visualization: directly supported, a one-liner is often enough\n",
    "\n",
    "User friendly API: you will only need to deal with the DataFrame object, and tab completion + docstring will help you out: ds.mean<tab>, feels very similar to Pandas\n",
    "    \n",
    "Lean: separated into multiple packages:\n",
    "\n",
    "* vaex-core: DataFrame and core algorithms, takes numpy arrays as input columns\n",
    "\n",
    "* vaex-hdf5: Provides memory mapped numpy arrays to a DataFrame\n",
    "\n",
    "* vaex-arrow: Arrow support for cross language data sharing\n",
    "\n",
    "* vaex-viz: Visualization based on matplotlib\n",
    "\n",
    "* vaex-jupyter: Interactive visualization based on Jupyter widgets / ipywidgets, bqplot, ipyvolume and ipyleaflet\n",
    "\n",
    "* vaex-astro: Astronomy related transformations and FITS file support\n",
    "\n",
    "* vaex-server: Provides a server to access a DataFrame remotely\n",
    "\n",
    "* vaex-distributed: (Proof of concept) combined multiple servers / cluster into a single DataFrame for distributed computations\n",
    "\n",
    "* vaex-qt: Program written using Qt GUI\n",
    "\n",
    "* vaex: Meta package that installs all of the above\n",
    "\n",
    "* vaex-ml: Machine learning\n",
    "\n",
    "Jupyter integration: vaex-jupyter will give you interactive visualization and selection in the Jupyter notebook and Jupyter lab\n"
   ]
  },
  {
   "cell_type": "code",
   "execution_count": 2,
   "metadata": {
    "ExecuteTime": {
     "end_time": "2020-06-05T19:33:58.385075Z",
     "start_time": "2020-06-05T19:33:53.081693Z"
    }
   },
   "outputs": [
    {
     "name": "stdout",
     "output_type": "stream",
     "text": [
      "Importing ...\n",
      "3.7.3 (default, Mar 27 2019, 16:54:48) \n",
      "[Clang 4.0.1 (tags/RELEASE_401/final)]\n",
      "This kernel has  4 cores and memory usage of: svmem(total=8589934592, available=2771288064, percent=67.7, used=4451819520, free=15011840, active=2757619712, inactive=2521808896, wired=1694199808)\n",
      "System ready to go!\n"
     ]
    }
   ],
   "source": [
    "# System settings\n",
    "print(\"Importing ...\")\n",
    "import os\n",
    "import pandas as pd\n",
    "import psutil\n",
    "import multiprocessing as mp\n",
    "\n",
    "# Harvester methods/libraries\n",
    "import requests\n",
    "from bs4 import BeautifulSoup as bs\n",
    "import vaex\n",
    "\n",
    "# Display python version and operational system-specif parameters \n",
    "import sys\n",
    "print(sys.version)\n",
    "\n",
    "# Check the number of cores and memory usage\n",
    "num_cores = mp.cpu_count()\n",
    "print(\"This kernel has \",num_cores,\"cores and memory usage of:\",psutil.virtual_memory())\n",
    "\n",
    "# # Check Dask and Hosting the diagnostics dashboard\n",
    "# cluster = LocalCluster()\n",
    "# client = Client(cluster)\n",
    "# client\n",
    "\n",
    "# Expands the visualization of a matrix\n",
    "pd.set_option(\"display.max_columns\", 300)\n",
    "pd.set_option(\"display.max_rows\", 300)\n",
    "\n",
    "print(\"System ready to go!\")\n"
   ]
  },
  {
   "cell_type": "code",
   "execution_count": 3,
   "metadata": {
    "ExecuteTime": {
     "end_time": "2020-06-05T19:34:15.219254Z",
     "start_time": "2020-06-05T19:33:58.390556Z"
    }
   },
   "outputs": [],
   "source": [
    "url = \"https://towardsdatascience.com/archive/2020/04/30\"\n",
    "response = requests.get(url)\n",
    "soup = bs(response.text, \"html.parser\")"
   ]
  },
  {
   "cell_type": "code",
   "execution_count": 4,
   "metadata": {
    "ExecuteTime": {
     "end_time": "2020-06-05T19:34:15.229711Z",
     "start_time": "2020-06-05T19:34:15.223524Z"
    }
   },
   "outputs": [],
   "source": [
    "# class_tweets =  \"container\" # \"TweetAuthor js-inViewportScribingTarget\" # \"timeline-Header timeline-InformationCircle-widgetParent\" \n",
    "# class_feeds = \"_3dp _29k\" # \"post_message\" "
   ]
  },
  {
   "cell_type": "code",
   "execution_count": 5,
   "metadata": {
    "ExecuteTime": {
     "end_time": "2020-06-05T19:34:15.264693Z",
     "start_time": "2020-06-05T19:34:15.259651Z"
    }
   },
   "outputs": [],
   "source": [
    "class_stories_id = \"postArticle postArticle--short js-postArticle js-trackPostPresentation js-trackPostScrolls\"\n",
    "class_author_class = \"postMetaInline postMetaInline-authorLockup ui-captionStrong u-flex1 u-noWrapWithEllipsis\""
   ]
  },
  {
   "cell_type": "code",
   "execution_count": 6,
   "metadata": {
    "ExecuteTime": {
     "end_time": "2020-06-05T19:34:15.372670Z",
     "start_time": "2020-06-05T19:34:15.270462Z"
    }
   },
   "outputs": [
    {
     "data": {
      "text/plain": [
       "'Resources I Wish I Knew When I Started Out With Data\\xa0Science'"
      ]
     },
     "execution_count": 6,
     "metadata": {},
     "output_type": "execute_result"
    }
   ],
   "source": [
    "tag = soup.findAll(\"div\", {\"class\": class_stories_id})[0]\n",
    "title = tag.find(\"h3\").get_text()\n",
    "title"
   ]
  },
  {
   "cell_type": "code",
   "execution_count": 7,
   "metadata": {
    "ExecuteTime": {
     "end_time": "2020-06-05T19:34:15.384652Z",
     "start_time": "2020-06-05T19:34:15.377281Z"
    }
   },
   "outputs": [
    {
     "data": {
      "text/plain": [
       "'A Powerful Learning Guide for\\xa0Serious…'"
      ]
     },
     "execution_count": 7,
     "metadata": {},
     "output_type": "execute_result"
    }
   ],
   "source": [
    "subtitle = tag.find(\"h4\").get_text()\n",
    "subtitle"
   ]
  },
  {
   "cell_type": "code",
   "execution_count": 8,
   "metadata": {
    "ExecuteTime": {
     "end_time": "2020-06-05T19:34:15.418007Z",
     "start_time": "2020-06-05T19:34:15.389334Z"
    }
   },
   "outputs": [
    {
     "data": {
      "text/plain": [
       "['2020-05-24', '2020-05-25', '2020-05-26', '2020-05-27', '2020-05-28']"
      ]
     },
     "execution_count": 8,
     "metadata": {},
     "output_type": "execute_result"
    }
   ],
   "source": [
    "df_stories = pd.DataFrame(columns=[\"title\", \"subtitle\", \"author\", \"date\", \"reading_time\", \"claps\"])\n",
    "dates_list = pd.date_range(\"2020-05-24\", \"2020-06-04\").astype(str).tolist()\n",
    "dates_list[:5]"
   ]
  },
  {
   "cell_type": "code",
   "execution_count": 9,
   "metadata": {
    "ExecuteTime": {
     "end_time": "2020-06-05T19:35:58.268086Z",
     "start_time": "2020-06-05T19:34:15.425885Z"
    }
   },
   "outputs": [
    {
     "name": "stdout",
     "output_type": "stream",
     "text": [
      "Scrapping https://towardsdatascience.com/archive/2020/05/24\n",
      "Scrapping https://towardsdatascience.com/archive/2020/05/25\n",
      "Scrapping https://towardsdatascience.com/archive/2020/05/26\n",
      "Scrapping https://towardsdatascience.com/archive/2020/05/27\n",
      "Scrapping https://towardsdatascience.com/archive/2020/05/28\n",
      "Scrapping https://towardsdatascience.com/archive/2020/05/29\n",
      "Scrapping https://towardsdatascience.com/archive/2020/05/30\n",
      "Scrapping https://towardsdatascience.com/archive/2020/05/31\n",
      "Scrapping https://towardsdatascience.com/archive/2020/06/01\n",
      "Scrapping https://towardsdatascience.com/archive/2020/06/02\n",
      "Scrapping https://towardsdatascience.com/archive/2020/06/03\n",
      "Scrapping https://towardsdatascience.com/archive/2020/06/04\n"
     ]
    }
   ],
   "source": [
    "def parse_tag_element(tag, element):\n",
    "    \"\"\"\n",
    "    Parses tags and elements from inspected website.\n",
    "    \"\"\"\n",
    "    try:\n",
    "        story_title = tag.find(element).get_text()\n",
    "    except AttributeError:\n",
    "        return None\n",
    "    return story_title\n",
    "\n",
    "class_stories_id = \"postArticle postArticle--short js-postArticle js-trackPostPresentation js-trackPostScrolls\"\n",
    "class_author_class = \"postMetaInline postMetaInline-authorLockup ui-captionStrong u-flex1 u-noWrapWithEllipsis\"\n",
    "\n",
    "for date in dates_list:\n",
    "    date = date.replace(\"-\", \"/\")\n",
    "    url = \"https://towardsdatascience.com/archive/%s\" % date\n",
    "    print(\"Scrapping\", url)\n",
    "    \n",
    "    response = requests.get(url)\n",
    "    soup = bs(response.text, \"html.parser\")\n",
    "    \n",
    "    for i, tag in enumerate(soup.findAll(\"div\", {\"class\": class_stories_id}), 1):\n",
    "        # parse story title\n",
    "        story_title = \"\"\n",
    "        for element in [\"h3\", \"h2\"]:\n",
    "            title = parse_tag_element(tag, element)\n",
    "            if title is not None:\n",
    "                story_title = title\n",
    "                break\n",
    "        \n",
    "        # parse story subtitle\n",
    "        story_subtitle = \"\"\n",
    "        for element in [\"h4\", \"p\"]:\n",
    "            subtitle = parse_tag_element(tag, element)\n",
    "            if subtitle is not None:\n",
    "                story_subtitle = subtitle\n",
    "                break\n",
    "                \n",
    "        author_tag = tag.find(\"div\", {\"class\": class_author_class})\n",
    "        author_name = author_tag.get_text(separator= \",\").split(\",\")[0]\n",
    "        reading_time = author_tag.find(\"span\", {\"class\": \"readingTime\"})[\"title\"]\n",
    "        n_claps = tag.find(\"span\", {\"class\": \"u-relative u-background js-actionMultirecommendCount u-marginLeft5\"}\n",
    "                          ).get_text()\n",
    "        row = {\"title\": story_title, \"subtitle\": story_subtitle, \"author\": author_name, \"date\": date,\n",
    "              \"reading_time\": reading_time, \"claps\": n_claps}\n",
    "        df_stories = df_stories.append(row, ignore_index=True)\n",
    "#         print(i, story_title, story_subtitle, author_name, date, reading_time, n_claps)\n",
    "        \n",
    "        # save Dataframe in each iteration so that progress is not lost if something breaks\n",
    "#         df_stories.to_csv(\"tds_stories.csv\")\n",
    "        \n",
    "        def from_pandas(df, name=\"pandas\", copy_index=False, index_name=\"index\"):\n",
    "            \"\"\"\n",
    "            Create an in memory DataFrame from a pandas DataFrame.\n",
    "\n",
    "            :param: pandas.DataFrame df: Pandas DataFrame\n",
    "            :param: name: unique for the DataFrame\n",
    "\n",
    "            >>> import vaex, pandas as pd\n",
    "            >>> df_pandas = pd.from_csv('test.csv')\n",
    "            >>> df = vaex.from_pandas(df_pandas)\n",
    "\n",
    "            :rtype: DataFrame\n",
    "            \"\"\"\n",
    "            vaex_df = vaex.dataframe.DataFrameArrays(name)\n",
    "\n",
    "            def add(name, column=df_stories.columns):\n",
    "                values = column.values\n",
    "                if isinstance(values, pd.core.arrays.integer.IntegerArray):\n",
    "                    values = np.ma.array(values._data, mask=values._mask)\n",
    "                try:\n",
    "                    vaex_df.add_column(name, values)\n",
    "                except Exception as e:\n",
    "                    print(\"could not convert column %s, error: %r, will try to convert it to string\" % (name, e))\n",
    "                    try:\n",
    "                        values = values.astype(\"S\")\n",
    "                        vaex_df.add_column(name, values)\n",
    "                    except Exception as e:\n",
    "                        print(\"Giving up column %s, error: %r\" % (name, e))\n",
    "            for name in df_stories.columns:\n",
    "                add(name, df_stories[name])\n",
    "            if copy_index:\n",
    "                add(index_name, df_stories.index)\n",
    "            return vaex_df\n",
    "        \n",
    "        "
   ]
  },
  {
   "cell_type": "markdown",
   "metadata": {},
   "source": [
    "This function automatically reads to vaex dataframe file (vaex.dataframe.DataFrameArrays) or to HDF5 from .csv and persists it to disk."
   ]
  },
  {
   "cell_type": "code",
   "execution_count": 10,
   "metadata": {
    "ExecuteTime": {
     "end_time": "2020-06-05T19:35:58.289835Z",
     "start_time": "2020-06-05T19:35:58.273297Z"
    }
   },
   "outputs": [
    {
     "data": {
      "text/plain": [
       "vaex.dataframe.DataFrameArrays"
      ]
     },
     "execution_count": 10,
     "metadata": {},
     "output_type": "execute_result"
    }
   ],
   "source": [
    "# path = \"dataset.csv\"\n",
    "# dv = vaex.from_csv(path, convert=True, chunk_size=10_000)\n",
    "vaex_df = from_pandas(df_stories)\n",
    "type(vaex_df)"
   ]
  },
  {
   "cell_type": "code",
   "execution_count": 11,
   "metadata": {
    "ExecuteTime": {
     "end_time": "2020-06-05T19:35:58.370401Z",
     "start_time": "2020-06-05T19:35:58.295871Z"
    }
   },
   "outputs": [
    {
     "data": {
      "text/html": [
       "<div>\n",
       "<style scoped>\n",
       "    .dataframe tbody tr th:only-of-type {\n",
       "        vertical-align: middle;\n",
       "    }\n",
       "\n",
       "    .dataframe tbody tr th {\n",
       "        vertical-align: top;\n",
       "    }\n",
       "\n",
       "    .dataframe thead th {\n",
       "        text-align: right;\n",
       "    }\n",
       "</style>\n",
       "<table border=\"1\" class=\"dataframe\">\n",
       "  <thead>\n",
       "    <tr style=\"text-align: right;\">\n",
       "      <th></th>\n",
       "      <th>title</th>\n",
       "      <th>subtitle</th>\n",
       "      <th>author</th>\n",
       "      <th>date</th>\n",
       "      <th>reading_time</th>\n",
       "      <th>claps</th>\n",
       "    </tr>\n",
       "  </thead>\n",
       "  <tbody>\n",
       "    <tr>\n",
       "      <th>0</th>\n",
       "      <td>5 Books That Will Teach You the Math Behind Ma...</td>\n",
       "      <td>A guide to the beautiful world of…</td>\n",
       "      <td>Tivadar Danka</td>\n",
       "      <td>2020/05/24</td>\n",
       "      <td>5 min read</td>\n",
       "      <td>608</td>\n",
       "    </tr>\n",
       "    <tr>\n",
       "      <th>1</th>\n",
       "      <td>A definitive guide for Setting up a Deep Learn...</td>\n",
       "      <td>DL Rig</td>\n",
       "      <td>Rahul Agarwal</td>\n",
       "      <td>2020/05/24</td>\n",
       "      <td>8 min read</td>\n",
       "      <td>266</td>\n",
       "    </tr>\n",
       "  </tbody>\n",
       "</table>\n",
       "</div>"
      ],
      "text/plain": [
       "                                               title  \\\n",
       "0  5 Books That Will Teach You the Math Behind Ma...   \n",
       "1  A definitive guide for Setting up a Deep Learn...   \n",
       "\n",
       "                             subtitle         author        date reading_time  \\\n",
       "0  A guide to the beautiful world of…  Tivadar Danka  2020/05/24   5 min read   \n",
       "1                              DL Rig  Rahul Agarwal  2020/05/24   8 min read   \n",
       "\n",
       "  claps  \n",
       "0   608  \n",
       "1   266  "
      ]
     },
     "execution_count": 11,
     "metadata": {},
     "output_type": "execute_result"
    }
   ],
   "source": [
    "col_names = vaex_df.get_column_names\n",
    "\n",
    "df = vaex_df.to_pandas_df(col_names(strings=col_names))\n",
    "type(df)\n",
    "df.head(2)"
   ]
  },
  {
   "cell_type": "code",
   "execution_count": 12,
   "metadata": {
    "ExecuteTime": {
     "end_time": "2020-06-05T19:35:58.383872Z",
     "start_time": "2020-06-05T19:35:58.374104Z"
    }
   },
   "outputs": [
    {
     "data": {
      "text/plain": [
       "(885, 6)"
      ]
     },
     "execution_count": 12,
     "metadata": {},
     "output_type": "execute_result"
    }
   ],
   "source": [
    "df.shape"
   ]
  },
  {
   "cell_type": "code",
   "execution_count": 13,
   "metadata": {
    "ExecuteTime": {
     "end_time": "2020-06-05T19:35:58.400908Z",
     "start_time": "2020-06-05T19:35:58.388636Z"
    }
   },
   "outputs": [
    {
     "name": "stdout",
     "output_type": "stream",
     "text": [
      "<class 'pandas.core.frame.DataFrame'>\n",
      "RangeIndex: 885 entries, 0 to 884\n",
      "Data columns (total 6 columns):\n",
      " #   Column        Non-Null Count  Dtype \n",
      "---  ------        --------------  ----- \n",
      " 0   title         885 non-null    object\n",
      " 1   subtitle      885 non-null    object\n",
      " 2   author        885 non-null    object\n",
      " 3   date          885 non-null    object\n",
      " 4   reading_time  885 non-null    object\n",
      " 5   claps         885 non-null    object\n",
      "dtypes: object(6)\n",
      "memory usage: 41.6+ KB\n"
     ]
    }
   ],
   "source": [
    "df.info()"
   ]
  },
  {
   "cell_type": "code",
   "execution_count": 14,
   "metadata": {
    "ExecuteTime": {
     "end_time": "2020-06-05T19:35:58.458503Z",
     "start_time": "2020-06-05T19:35:58.406106Z"
    }
   },
   "outputs": [
    {
     "name": "stdout",
     "output_type": "stream",
     "text": [
      "Number of Null values:  (0, 6)\n",
      "Number of values:  (885, 6)\n"
     ]
    }
   ],
   "source": [
    "# Checking if the scraping algorithm was able to scrape all the titles\n",
    "print(\"Number of Null values: \", df_stories[df_stories.title.isnull()].shape)\n",
    "\n",
    "# In case of any missing values, remove them:\n",
    "print(\"Number of values: \", df_stories[df_stories.title.notnull()].shape)"
   ]
  },
  {
   "cell_type": "code",
   "execution_count": 19,
   "metadata": {
    "ExecuteTime": {
     "end_time": "2020-06-05T19:39:24.106072Z",
     "start_time": "2020-06-05T19:39:24.083149Z"
    }
   },
   "outputs": [
    {
     "data": {
      "text/html": [
       "<div>\n",
       "<style scoped>\n",
       "    .dataframe tbody tr th:only-of-type {\n",
       "        vertical-align: middle;\n",
       "    }\n",
       "\n",
       "    .dataframe tbody tr th {\n",
       "        vertical-align: top;\n",
       "    }\n",
       "\n",
       "    .dataframe thead th {\n",
       "        text-align: right;\n",
       "    }\n",
       "</style>\n",
       "<table border=\"1\" class=\"dataframe\">\n",
       "  <thead>\n",
       "    <tr style=\"text-align: right;\">\n",
       "      <th></th>\n",
       "      <th>title</th>\n",
       "      <th>subtitle</th>\n",
       "      <th>author</th>\n",
       "      <th>date</th>\n",
       "      <th>reading_time</th>\n",
       "      <th>claps</th>\n",
       "      <th>id</th>\n",
       "    </tr>\n",
       "  </thead>\n",
       "  <tbody>\n",
       "    <tr>\n",
       "      <th>226</th>\n",
       "      <td>How ISIS Uses Twitter</td>\n",
       "      <td>Using Social Network Analysis and Community De...</td>\n",
       "      <td>Mitchell Telatnik</td>\n",
       "      <td>2020/05/26</td>\n",
       "      <td>4 min read</td>\n",
       "      <td>46</td>\n",
       "      <td>1262484266718225157</td>\n",
       "    </tr>\n",
       "    <tr>\n",
       "      <th>609</th>\n",
       "      <td>Predicting Reddit Flairs using Machine Learnin...</td>\n",
       "      <td></td>\n",
       "      <td>Prakhar Rathi</td>\n",
       "      <td>2020/05/31</td>\n",
       "      <td>8 min read</td>\n",
       "      <td>14</td>\n",
       "      <td>3406829216753561466</td>\n",
       "    </tr>\n",
       "  </tbody>\n",
       "</table>\n",
       "</div>"
      ],
      "text/plain": [
       "                                                 title  \\\n",
       "226                              How ISIS Uses Twitter   \n",
       "609  Predicting Reddit Flairs using Machine Learnin...   \n",
       "\n",
       "                                              subtitle             author  \\\n",
       "226  Using Social Network Analysis and Community De...  Mitchell Telatnik   \n",
       "609                                                         Prakhar Rathi   \n",
       "\n",
       "           date reading_time claps                   id  \n",
       "226  2020/05/26   4 min read    46  1262484266718225157  \n",
       "609  2020/05/31   8 min read    14  3406829216753561466  "
      ]
     },
     "execution_count": 19,
     "metadata": {},
     "output_type": "execute_result"
    }
   ],
   "source": [
    "# Duplicates\n",
    "df[df.title.duplicated()].sort_values(\"claps\", ascending=False)"
   ]
  },
  {
   "cell_type": "code",
   "execution_count": 16,
   "metadata": {
    "ExecuteTime": {
     "end_time": "2020-06-05T19:35:58.662284Z",
     "start_time": "2020-06-05T19:35:58.628975Z"
    }
   },
   "outputs": [
    {
     "name": "stdout",
     "output_type": "stream",
     "text": [
      "Column  title :  Empty DataFrame\n",
      "Columns: [title, subtitle, author, date, reading_time, claps]\n",
      "Index: []\n",
      "Column  subtitle :  Empty DataFrame\n",
      "Columns: [title, subtitle, author, date, reading_time, claps]\n",
      "Index: []\n",
      "Column  author :  Empty DataFrame\n",
      "Columns: [title, subtitle, author, date, reading_time, claps]\n",
      "Index: []\n",
      "Column  date :  Empty DataFrame\n",
      "Columns: [title, subtitle, author, date, reading_time, claps]\n",
      "Index: []\n",
      "Column  reading_time :  Empty DataFrame\n",
      "Columns: [title, subtitle, author, date, reading_time, claps]\n",
      "Index: []\n",
      "Column  claps :  Empty DataFrame\n",
      "Columns: [title, subtitle, author, date, reading_time, claps]\n",
      "Index: []\n"
     ]
    }
   ],
   "source": [
    "# Verifying if columns don't have nulls or empty string values.\n",
    "\n",
    "for i in df_stories.columns:\n",
    "#     print(i)\n",
    "    print(\"Column \", i, \": \", df_stories[(df_stories[i].isnull()) | (df_stories[i] == \" \")])\n",
    "    "
   ]
  },
  {
   "cell_type": "markdown",
   "metadata": {},
   "source": [
    "A great way to check for duplicates with many columns is to combine the values, calculate the hash\n",
    "and check for duplicated hashes. The downside of this method is that it doesn't work well with null\n",
    "values."
   ]
  },
  {
   "cell_type": "code",
   "execution_count": 17,
   "metadata": {
    "ExecuteTime": {
     "end_time": "2020-06-05T19:35:58.702674Z",
     "start_time": "2020-06-05T19:35:58.667454Z"
    }
   },
   "outputs": [
    {
     "data": {
      "text/html": [
       "<div>\n",
       "<style scoped>\n",
       "    .dataframe tbody tr th:only-of-type {\n",
       "        vertical-align: middle;\n",
       "    }\n",
       "\n",
       "    .dataframe tbody tr th {\n",
       "        vertical-align: top;\n",
       "    }\n",
       "\n",
       "    .dataframe thead th {\n",
       "        text-align: right;\n",
       "    }\n",
       "</style>\n",
       "<table border=\"1\" class=\"dataframe\">\n",
       "  <thead>\n",
       "    <tr style=\"text-align: right;\">\n",
       "      <th></th>\n",
       "      <th>title</th>\n",
       "      <th>subtitle</th>\n",
       "      <th>author</th>\n",
       "      <th>date</th>\n",
       "      <th>reading_time</th>\n",
       "      <th>claps</th>\n",
       "      <th>id</th>\n",
       "    </tr>\n",
       "  </thead>\n",
       "  <tbody>\n",
       "  </tbody>\n",
       "</table>\n",
       "</div>"
      ],
      "text/plain": [
       "Empty DataFrame\n",
       "Columns: [title, subtitle, author, date, reading_time, claps, id]\n",
       "Index: []"
      ]
     },
     "execution_count": 17,
     "metadata": {},
     "output_type": "execute_result"
    }
   ],
   "source": [
    "df[\"id\"] = (df.title + df.subtitle + df.author + df.date + df.reading_time+ df.claps).apply(hash)\n",
    "df[df.id.duplicated()]"
   ]
  },
  {
   "cell_type": "code",
   "execution_count": 18,
   "metadata": {
    "ExecuteTime": {
     "end_time": "2020-06-05T19:35:58.715350Z",
     "start_time": "2020-06-05T19:35:58.706288Z"
    }
   },
   "outputs": [
    {
     "name": "stdout",
     "output_type": "stream",
     "text": [
      "The shape of a validated dataset is:  (885, 7) and column names are: \n",
      " Index(['title', 'subtitle', 'author', 'date', 'reading_time', 'claps', 'id'], dtype='object')\n"
     ]
    }
   ],
   "source": [
    "# Final check and Saving the dataframe to a .csv file\n",
    "print(\"The shape of a validated dataset is: \", df.shape , \"and column names are: \\n\", df.columns)\n",
    "# df.to_csv(\"TowardsDataScience_validated.csv\", index=False, \n",
    "#           columns=[\"title\", \"subtitle\", \"author\", \"date\", \"reading_time\", \"claps\"])"
   ]
  },
  {
   "cell_type": "code",
   "execution_count": null,
   "metadata": {},
   "outputs": [],
   "source": []
  },
  {
   "cell_type": "code",
   "execution_count": null,
   "metadata": {},
   "outputs": [],
   "source": []
  }
 ],
 "metadata": {
  "kernelspec": {
   "display_name": "Python 3",
   "language": "python",
   "name": "python3"
  },
  "language_info": {
   "codemirror_mode": {
    "name": "ipython",
    "version": 3
   },
   "file_extension": ".py",
   "mimetype": "text/x-python",
   "name": "python",
   "nbconvert_exporter": "python",
   "pygments_lexer": "ipython3",
   "version": "3.7.3"
  },
  "latex_envs": {
   "LaTeX_envs_menu_present": true,
   "autoclose": false,
   "autocomplete": true,
   "bibliofile": "biblio.bib",
   "cite_by": "apalike",
   "current_citInitial": 1,
   "eqLabelWithNumbers": true,
   "eqNumInitial": 1,
   "hotkeys": {
    "equation": "Ctrl-E",
    "itemize": "Ctrl-I"
   },
   "labels_anchors": false,
   "latex_user_defs": false,
   "report_style_numbering": false,
   "user_envs_cfg": false
  },
  "toc": {
   "base_numbering": 1,
   "nav_menu": {},
   "number_sections": true,
   "sideBar": true,
   "skip_h1_title": false,
   "title_cell": "Table of Contents",
   "title_sidebar": "Contents",
   "toc_cell": true,
   "toc_position": {},
   "toc_section_display": true,
   "toc_window_display": false
  }
 },
 "nbformat": 4,
 "nbformat_minor": 2
}
